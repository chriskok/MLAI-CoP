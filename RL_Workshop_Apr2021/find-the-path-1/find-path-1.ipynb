{
 "cells": [
  {
   "cell_type": "markdown",
   "metadata": {},
   "source": [
    "# Fixed Policy Example\n",
    "\n",
    "## Overview\n",
    "\n",
    "The environment is 6x6 grid with no obstacles.\n",
    "One agent tries to reach its target starting from the (0, 0) cell.\n",
    "\n",
    "## Algorithm Outline\n",
    "\n",
    "The policy is initialized with random actions. The value associated to \n",
    "each state is incrementally increased until a fix point is reached and \n",
    "no more improvement is possible.\n"
   ]
  },
  {
   "cell_type": "markdown",
   "metadata": {},
   "source": [
    "### Build the environment, and initialize the policy."
   ]
  },
  {
   "cell_type": "code",
   "execution_count": null,
   "metadata": {},
   "outputs": [],
   "source": [
    "\n",
    "from grid import Grid\n",
    "from agent import DPAgentGrid\n",
    "\n",
    "env = Grid(6)\n",
    "agent = DPAgentGrid('A', env, (0, 0), (5, 5), (5, 4))\n",
    "\n",
    "# Initialize policy. Each state will have a value.\n",
    "agent.init_policy()\n",
    "\n",
    "\n"
   ]
  },
  {
   "cell_type": "markdown",
   "metadata": {},
   "source": [
    "### Keep improving the policy until it converges\n",
    "You will need to repeat this step until you see a message\n",
    "that reads _Policy converged_.\n"
   ]
  },
  {
   "cell_type": "code",
   "execution_count": null,
   "metadata": {},
   "outputs": [],
   "source": [
    "agent.improve_policy(True)\n",
    "agent.show_policy()"
   ]
  },
  {
   "cell_type": "markdown",
   "metadata": {},
   "source": [
    "## Show the agent in action\n",
    "It will follow the policy it just computed."
   ]
  },
  {
   "cell_type": "code",
   "execution_count": null,
   "metadata": {},
   "outputs": [],
   "source": [
    "moving = True\n",
    "env.render()\n",
    "while moving:\n",
    "    moving = env.step()\n"
   ]
  },
  {
   "cell_type": "code",
   "execution_count": null,
   "metadata": {},
   "outputs": [],
   "source": []
  }
 ],
 "metadata": {
  "kernelspec": {
   "display_name": "Python 3",
   "language": "python",
   "name": "python3"
  },
  "language_info": {
   "codemirror_mode": {
    "name": "ipython",
    "version": 3
   },
   "file_extension": ".py",
   "mimetype": "text/x-python",
   "name": "python",
   "nbconvert_exporter": "python",
   "pygments_lexer": "ipython3",
   "version": "3.8.8"
  }
 },
 "nbformat": 4,
 "nbformat_minor": 2
}
